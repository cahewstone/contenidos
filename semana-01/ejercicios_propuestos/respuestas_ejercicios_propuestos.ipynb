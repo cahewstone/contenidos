{
 "cells": [
  {
   "cell_type": "code",
   "execution_count": null,
   "metadata": {},
   "outputs": [],
   "source": []
  },
  {
   "cell_type": "markdown",
   "metadata": {},
   "source": [
    "<p>\n",
    "<font size='5' face='Georgia, Arial'>IIC-2233 Apunte Programación Avanzada</font><br>\n",
    "<font size='1'> Ejercicios creados a partir de 2019-2 por Equipo Docente IIC2233. </font>\n",
    "<font size='1'> Actualizados en 2020-1.</font>\n",
    "</p>\n",
    "\n",
    "\n",
    "# Ejercicios propuestos: Estructuras de datos *built-ins*"
   ]
  },
  {
   "cell_type": "markdown",
   "metadata": {},
   "source": [
    "Los siguientes problemas se proveen como oportunidad de ejercitar los conceptos revisados en el material de **estructuras de datos *built-ins***. Si tienes dudas sobre algún problema o alguna solución, no dudes en dejar una *issue* en el [foro del curso](https://github.com/IIC2233/syllabus/issues).\n",
    "\n",
    "Los ejercicios se subdividen según la numeración de los cuadernos de la semana. Algunos de ellos se referencian desde los cuadernos de material mismo, mientras que pueden haber otros adicionales para mayor ejercitación."
   ]
  },
  {
   "cell_type": "markdown",
   "metadata": {},
   "source": [
    "## 2. Listas y tuplas"
   ]
  },
  {
   "cell_type": "markdown",
   "metadata": {},
   "source": [
    "### Ejercicio 2.1: ¡A jugar *Pro-Gra-Oh*!"
   ]
  },
  {
   "cell_type": "markdown",
   "metadata": {},
   "source": [
    "Debes simular una versión simplificada del famoso juego de cartas Pro-Gra-Oh!.\n",
    "\n",
    "Para lo anterior deberás cargar las cartas del archivo `cards.csv` (que se encuentra en este mismo directorio), en una estructura de datos adecuada, y completar las funciones que se encuentran a continuación.\n",
    "\n",
    "En una partida de este juego, cada jugador recibirá 5 cartas y atacará con una de sus cartas (aleatoriamente) a una de las cartas del otro jugador (también al azar). Al realizar el ataque, se comparan los puntos de ataque del atacante con los puntos de defensa del defensor; la carta con menor valor debe ser descartada de la mano del jugador.\n",
    "\n",
    "La partida termina cuando un jugador se queda sin cartas."
   ]
  },
  {
   "cell_type": "code",
   "execution_count": null,
   "metadata": {},
   "outputs": [
    {
     "name": "stdout",
     "output_type": "stream",
     "text": [
      "Mazo jugador 1 - Carta 1: Mecha Phantom Beast Blackfalcon -                   Ataque: 1200 - Defensa: 1700\n",
      "Mazo jugador 1 - Carta 2: Mystery Hand -                   Ataque: 500 - Defensa: 500\n",
      "Mazo jugador 1 - Carta 3: Blue-Eyes Chaos MAX Dragon -                   Ataque: 4000 - Defensa: 0\n",
      "Mazo jugador 1 - Carta 4: Gem-Knight Alexandrite -                   Ataque: 1800 - Defensa: 1200\n",
      "Mazo jugador 1 - Carta 5: Deskbot 009 -                   Ataque: 500 - Defensa: 500\n",
      "Mazo jugador 2- Carta 1: The Immortal of Thunder -                   Ataque: 1500 - Defensa: 1300\n",
      "Mazo jugador 2- Carta 2: Tiger Dragon -                   Ataque: 2400 - Defensa: 1800\n",
      "Mazo jugador 2- Carta 3: Gusto Falco -                   Ataque: 600 - Defensa: 1400\n",
      "Mazo jugador 2- Carta 4: Number 52: Diamond Crab King -                   Ataque: 0 - Defensa: 3000\n",
      "Mazo jugador 2- Carta 5: Defect Compiler -                   Ataque: 1000 - Defensa: 1000\n",
      "Turno número 1\n",
      "Cartas Jugador 1: 5   Cartas Jugador 2: 5\n",
      "3\n",
      "Jugador 1 saca a: Gem-Knight Alexandrite .... Jugador 2 saca a: Defect Compiler\n",
      "ataca j1!\n",
      "gana j1!\n",
      "Turno número 2\n",
      "Cartas Jugador 1: 5   Cartas Jugador 2: 4\n",
      "4\n",
      "Jugador 1 saca a: Deskbot 009 .... Jugador 2 saca a: Number 52: Diamond Crab King\n",
      "ataca j2!\n",
      "pierde j2!\n",
      "Turno número 3\n",
      "Cartas Jugador 1: 5   Cartas Jugador 2: 3\n",
      "3\n",
      "Jugador 1 saca a: Gem-Knight Alexandrite .... Jugador 2 saca a: The Immortal of Thunder\n",
      "ataca j1!\n",
      "gana j1!\n",
      "Turno número 4\n",
      "Cartas Jugador 1: 5   Cartas Jugador 2: 2\n",
      "3\n",
      "Jugador 1 saca a: Gem-Knight Alexandrite .... Jugador 2 saca a: Gusto Falco\n",
      "ataca j2!\n",
      "gana j2!\n",
      "Turno número 5\n",
      "Cartas Jugador 1: 4   Cartas Jugador 2: 2\n",
      "2\n",
      "Jugador 1 saca a: Blue-Eyes Chaos MAX Dragon .... Jugador 2 saca a: Tiger Dragon\n",
      "ataca j1!\n",
      "gana j1!\n",
      "Turno número 6\n",
      "Cartas Jugador 1: 4   Cartas Jugador 2: 1\n",
      "0\n",
      "Jugador 1 saca a: Mecha Phantom Beast Blackfalcon .... Jugador 2 saca a: Gusto Falco\n",
      "ataca j2!\n",
      "gana j2!\n",
      "Turno número 7\n",
      "Cartas Jugador 1: 3   Cartas Jugador 2: 1\n",
      "0\n",
      "Jugador 1 saca a: Mystery Hand .... Jugador 2 saca a: Gusto Falco\n",
      "ataca j1!\n",
      "gana j1!\n",
      "Gana Jugador 1, le quedan aún 3 cartas\n"
     ]
    }
   ],
   "source": [
    "import random as rd\n",
    "\n",
    "\n",
    "class Carta:\n",
    "    \n",
    "    def __init__(self, valores):\n",
    "        \n",
    "        self.nombre = valores[0]\n",
    "        self.ataque = valores[1]\n",
    "        self.defensa = valores[2]\n",
    "\n",
    "class Juego:\n",
    "    \n",
    "    def __init__(self, turnos):\n",
    "        \n",
    "        self.mazo = []\n",
    "        self.cartas_j1 = []\n",
    "        self.cartas_j2 = []\n",
    "        \n",
    "        self.read_file()\n",
    "        self.repartir_cartas()\n",
    "        self.comenzar_juego(turnos)\n",
    "    \n",
    "    def read_file(self):\n",
    "        \n",
    "        # Leer las cartas y guardarlas en una estructura de datos adecuada\n",
    "        # NOTA: la primera fila del archivo son los atributos de las cartas\n",
    "\n",
    "        with open('cards.csv', 'rt') as archivo:\n",
    "            lineas = archivo.readlines()\n",
    "        #print(lineas)\n",
    "        for linea in lineas:\n",
    "            fila = linea.strip().split(',')\n",
    "            #print(fila)\n",
    "            valores_carta=(fila[0],fila[1],fila[2])\n",
    "            self.mazo.append(Carta(valores_carta))\n",
    "        \n",
    "        \n",
    "    \n",
    "    def repartir_cartas(self):\n",
    "        # Barajar las cartas y repartirlas de a 1\n",
    "        # Barajo cartas\n",
    "        for i in range(0, 5):\n",
    "            # Le doy al jugador 1\n",
    "            numero_aleatorio=rd.randint(0,len(self.mazo))\n",
    "            carta=self.mazo[numero_aleatorio]\n",
    "            self.cartas_j1.append(carta)\n",
    "            #print(f\"Carta para jugador 1: {carta}\")\n",
    "            self.mazo.remove(carta)\n",
    "            # Le doy al jugador 2\n",
    "            numero_aleatorio=rd.randint(0,len(self.mazo))\n",
    "            carta=self.mazo[numero_aleatorio]\n",
    "            self.cartas_j2.append(carta)\n",
    "            #print(f\"Carta para jugador 2: {carta}\")\n",
    "            self.mazo.remove(carta)\n",
    "        \n",
    "        for i in range(0, 5):\n",
    "            print(f\"Mazo jugador 1 - Carta {i+1}: {self.cartas_j1[i].nombre} - \\\n",
    "                  Ataque: {self.cartas_j1[i].ataque} - Defensa: {self.cartas_j1[i].defensa}\")\n",
    "\n",
    "        for i in range(0, 5):\n",
    "            print(f\"Mazo jugador 2- Carta {i+1}: {self.cartas_j2[i].nombre} - \\\n",
    "                  Ataque: {self.cartas_j2[i].ataque} - Defensa: {self.cartas_j2[i].defensa}\")\n",
    "        \n",
    "        #print(self.mazo)\n",
    "        \n",
    "    \n",
    "    def atacar(self, atacante, defensa):\n",
    "        ptos_ataque = atacante.ataque\n",
    "        ptos_defensa = defensa.defensa\n",
    "        # Rellenar aquí\n",
    "        \n",
    "        \n",
    "    \n",
    "    def comenzar_juego(self, turnos):\n",
    "        for i in range(1, turnos + 1):\n",
    "\n",
    "            if (len(self.cartas_j1)==0):\n",
    "                print(f'Gana Jugador 2, le quedan aún {len(self.cartas_j2)} cartas')\n",
    "                break\n",
    "            elif (len(self.cartas_j2)==0):\n",
    "                print(f'Gana Jugador 1, le quedan aún {len(self.cartas_j1)} cartas')\n",
    "                break\n",
    "\n",
    "            print(f\"Turno número {i}\")\n",
    "            print(f\"Cartas Jugador 1: {len(self.cartas_j1)}   Cartas Jugador 2: {len(self.cartas_j2)}\")\n",
    "            numero_aleatorio_1=rd.randint(0,len(self.cartas_j1)-1)\n",
    "            numero_aleatorio_2=rd.randint(0,len(self.cartas_j2)-1)\n",
    "            print(numero_aleatorio_1)\n",
    "            #print(self.cartas_j1[numero_aleatorio_1].nombre)\n",
    "            carta_j1=Carta([self.cartas_j1[numero_aleatorio_1].nombre,\n",
    "                            self.cartas_j1[numero_aleatorio_1].ataque,\n",
    "                            self.cartas_j1[numero_aleatorio_1].defensa])\n",
    "                \n",
    "            carta_j2=Carta([self.cartas_j2[numero_aleatorio_2].nombre,\n",
    "                            self.cartas_j2[numero_aleatorio_2].ataque,\n",
    "                            self.cartas_j2[numero_aleatorio_2].defensa])\n",
    "            print(f\"Jugador 1 saca a: {carta_j1.nombre} .... Jugador 2 saca a: {carta_j2.nombre}\")\n",
    "            \n",
    "            if i % 2:\n",
    "                # Ataca el jugador 1\n",
    "                # Rellenar aquí\n",
    "                print(\"ataca j1!\")                \n",
    "                #Ahora tengo que atacar\n",
    "               #\n",
    "                if (carta_j1.ataque>carta_j2.defensa):\n",
    "                    self.cartas_j2.pop(numero_aleatorio_2)\n",
    "                    print(\"gana j1!\")  \n",
    "                else:\n",
    "                    self.cartas_j1.pop(numero_aleatorio_1)\n",
    "                    print(\"pierde j1!\")  \n",
    "                \n",
    "            else:\n",
    "                # Ataca el jugador 2\n",
    "                print(\"ataca j2!\")\n",
    "                if (carta_j2.ataque>carta_j1.defensa):\n",
    "                    self.cartas_j1.pop(numero_aleatorio_1)\n",
    "                    print(\"gana j2!\")\n",
    "                else:\n",
    "                    self.cartas_j2.pop(numero_aleatorio_2)\n",
    "                    print(\"pierde j2!\")\n",
    "                pass\n",
    "\n",
    "            \n",
    "\n",
    "\n",
    "\n",
    "\n",
    "juego = Juego(10)"
   ]
  },
  {
   "cell_type": "markdown",
   "metadata": {},
   "source": [
    "## 3. *Stacks*"
   ]
  },
  {
   "cell_type": "markdown",
   "metadata": {},
   "source": [
    "### Ejercicio 3.1: Torre de Hanói"
   ]
  },
  {
   "cell_type": "markdown",
   "metadata": {},
   "source": [
    "Una Torre de Hanói es un rompecabezas consistente en una serie de discos perforados que deben trasladarse desde su posición inicial en el primer pilar, ordenados desde el más grande abajo hasta el más pequeño arriba, hasta la misma posición pero en el tercer pilar. Sin embargo, hay una regla importante: **debes trasladar los discos al tercer poste moviendo un disco a la vez y sin colocar un disco grande encima de uno pequeño**. Ahora implementarás tu propia versión de este rompecabezas.\n",
    "\n",
    "![](../img/hanoi-1.png)\n",
    "\n",
    "La clase `TorreDeHanoi` está conformada por 3 pilares, donde cada uno es un *stack*, ya que solo puedes añadir y quitar discos por un extremo de cada pilar. La clase viene con los métodos `__init__` y `__str__` implementados, por lo que puedes ver el estado inicial de la torre. Sin embargo, **solo con métodos de *stacks***, deberás implementar el método `mover_disco`, que recibe el número del pilar desde donde sale el disco y el número del pilar al que llega un disco. Cabe destacar que el tamaño de un disco está representado por el número contenido en el pilar (por ejemplo, el 6 representa al disco más grande y el 1 al más pequeño). Una vez que implementes este método, te retamos a hacer una función que ocupe las operaciones de *stacks* necesarias para mover el disco. **Recuerda no colocar un disco grande encima de uno pequeño**.\n",
    "\n",
    "![](../img/hanoi-2.png)\n",
    "\n",
    "**PS:** Además, te retamos a: (1) verificar que un movimiento es válido (no queda un disco grande sobre uno pequeño) y (2) crear una función que verifique si el rompecabezas fue completado correctamente . "
   ]
  },
  {
   "cell_type": "code",
   "execution_count": 43,
   "metadata": {},
   "outputs": [],
   "source": [
    "class TorreDeHanoi:\n",
    "    \n",
    "    def __init__(self):\n",
    "        self.pilar_1 = [6, 5, 4, 3, 2, 1]\n",
    "        self.pilar_2 = []\n",
    "        self.pilar_3 = []\n",
    "    \n",
    "    def comprobar_puzzle(self):\n",
    "        if (self.pilar_3 == [6, 5, 4, 3, 2, 1]):\n",
    "            print(\"Juego Terminado!\")\n",
    "        else:\n",
    "            pass\n",
    "\n",
    "\n",
    "        \n",
    "    def mover_disco(self, pilar_origen, pilar_destino):\n",
    "        # Recuerda que debes sacar el elemento que está más arriba en el pilar de origen\n",
    "        # y colocarlo en lo más alto del pilar de destino\n",
    "        # Sacar el disco\n",
    "\n",
    "        largo_origen=0\n",
    "        largo_destino=0\n",
    "        #print(globals())\n",
    "        #print(locals())\n",
    "        #print('largo_origen=len(self.pilar_'+str(pilar_origen)+')')\n",
    "\n",
    "        \n",
    "        \n",
    "        largo_origen=eval('len(self.pilar_'+str(pilar_origen)+')')\n",
    "        largo_destino=eval('len(self.pilar_'+str(pilar_destino)+')')\n",
    "        #largo_origen=len(self.pilar_1)\n",
    "        #largo_destino=len(self.pilar_3)\n",
    "\n",
    "        #print(len(self.pilar_1))\n",
    "        #print(largo_origen)\n",
    "        #print(largo_destino)\n",
    "\n",
    "        if (largo_origen==0):\n",
    "            valor_origen=0\n",
    "        else:\n",
    "            valor_origen=eval('self.pilar_'+str(pilar_origen)+'[-1]')\n",
    "        \n",
    "        if (largo_destino==0):\n",
    "            valor_destino=0\n",
    "        else:\n",
    "            valor_destino=eval('self.pilar_'+str(pilar_destino)+'[-1]')\n",
    "            \n",
    "        valido=True\n",
    "        #print(largo_origen)\n",
    "        #print(largo_destino)\n",
    "        #print(valor_origen)\n",
    "        #print(valor_destino)\n",
    "    \n",
    "\n",
    "        if (largo_origen < 1 or largo_destino >5 or (valor_origen>valor_destino and valor_destino>0)):\n",
    "            valido=False\n",
    "        \n",
    "        if (valido):\n",
    "            program='self.pilar_'+str(pilar_destino)+'.append('+'self.pilar_'+str(pilar_origen)+'.pop()'+')'\n",
    "            exec(program)\n",
    "            #print(program)\n",
    "        else:\n",
    "            print('movimiento invalido')\n",
    "    \n",
    "    \n",
    "\n",
    "    def __str__(self):\n",
    "        output = \"\"\n",
    "        # Range termina con -1 para recorrer al revés\n",
    "        for i in range(5, -1, -1):\n",
    "            fila = \" \"  # Armamos una fila a la vez, desde arriba\n",
    "            # Pilar 1\n",
    "            if len(self.pilar_1) > i:\n",
    "                fila += str(self.pilar_1[i]) + \" \"\n",
    "            else:\n",
    "                fila += \"x \"\n",
    "            # Pilar 2\n",
    "            if len(self.pilar_2) > i:\n",
    "                fila += str(self.pilar_2[i]) + \" \"\n",
    "            else:\n",
    "                fila += \"x \"\n",
    "            # Pilar 3\n",
    "            if len(self.pilar_3) > i:\n",
    "                fila += str(self.pilar_3[i]) + \" \"\n",
    "            else:\n",
    "                fila += \"x \"\n",
    "            output += fila + \"\\n\"\n",
    "        output += \"=\" * 7 + \"\\n\"\n",
    "        return output"
   ]
  },
  {
   "cell_type": "code",
   "execution_count": 44,
   "metadata": {},
   "outputs": [
    {
     "name": "stdout",
     "output_type": "stream",
     "text": [
      " 1 x x \n",
      " 2 x x \n",
      " 3 x x \n",
      " 4 x x \n",
      " 5 x x \n",
      " 6 x x \n",
      "=======\n",
      "\n"
     ]
    }
   ],
   "source": [
    "torre_de_hanoi = TorreDeHanoi()\n",
    "print(torre_de_hanoi)"
   ]
  },
  {
   "cell_type": "code",
   "execution_count": 135,
   "metadata": {},
   "outputs": [
    {
     "name": "stdout",
     "output_type": "stream",
     "text": [
      " x x 1 \n",
      " x x 2 \n",
      " x x 3 \n",
      " x x 4 \n",
      " x x 5 \n",
      " x x 6 \n",
      "=======\n",
      "\n",
      "Juego Terminado!\n"
     ]
    }
   ],
   "source": [
    "torre_de_hanoi.mover_disco(1, 3) \n",
    "print(torre_de_hanoi)\n",
    "torre_de_hanoi.comprobar_puzzle()"
   ]
  },
  {
   "cell_type": "markdown",
   "metadata": {},
   "source": [
    "## 4. Colas"
   ]
  },
  {
   "cell_type": "markdown",
   "metadata": {},
   "source": [
    "### Ejercicio 4.1: Comandos de Git"
   ]
  },
  {
   "cell_type": "markdown",
   "metadata": {},
   "source": [
    "En este ejercicio debes intentar simular los comandos básicos de `git`: `add`, `commit` y `push` usando, para cada una de ellos, alguna estructura básica. Para esto, se te entrega la clase `Repositorio` en donde debes completar los siguientes métodos.\n",
    "\n",
    "- `git add`: No debe dejar que suba a tu repositorio **archivos repetidos**.\n",
    "- `git commit`: Aquí confirmas los cambios que indicaste con `git add` y los dejas \"*en espera*\" según una lógica **FIFO** ( _First in, First out_ ). \n",
    "- `git push`: Se realizan los cambios pedidos en el repositorio.\n",
    "\n",
    "Por simplicidad considera que cada cambio será agregar o eliminar archivos, y no modificaciones a un archivo.\n",
    "\n",
    "Puedes empezar con el siguiente código:"
   ]
  },
  {
   "cell_type": "code",
   "execution_count": 16,
   "metadata": {},
   "outputs": [
    {
     "name": "stdout",
     "output_type": "stream",
     "text": [
      "['main.py', 'windows.py', 'user.txt']\n",
      "[]\n",
      " \n",
      "['main.py', 'windows.py', 'user.txt']\n",
      "[]\n",
      " \n",
      "Agregado el README :D\n",
      "['main.py', 'windows.py', 'user.txt', 'R', 'E', 'A', 'D', 'M', 'E', '.', 'm', 'd']\n",
      "[]\n",
      " \n",
      "[]\n",
      "['main.py', 'windows.py', 'user.txt', 'R', 'E', 'A', 'D', 'M', 'E', '.', 'm', 'd']\n",
      " \n",
      "[]\n",
      "['main.py', 'windows.py', 'user.txt', 'R', 'E', 'A', 'D', 'M', 'E', '.', 'm', 'd']\n",
      " \n",
      "subiendo datos\n",
      "['data.json', 'client.py', 'user.txt']\n",
      "['main.py', 'windows.py', 'user.txt', 'R', 'E', 'A', 'D', 'M', 'E', '.', 'm', 'd']\n",
      " \n",
      "[]\n",
      "['main.py', 'windows.py', 'user.txt', 'R', 'E', 'A', 'D', 'M', 'E', '.', 'm', 'd', 'data.json', 'client.py', 'user.txt']\n",
      " \n"
     ]
    }
   ],
   "source": [
    "from collections import deque\n",
    "\n",
    "class Repositorio:\n",
    "    \n",
    "    def __init__(self, archivos=[]):\n",
    "        self.archivos_remotos = []\n",
    "        self.archivos_locales = archivos\n",
    "        #puedes agregar más atributos si lo estimas necesario ;)\n",
    "        self.archivos_remotos_cola = deque(self.archivos_remotos)\n",
    "        self.archivos_locales_cola = deque(self.archivos_locales)\n",
    "        self.archivos_en_espera_cola =deque()\n",
    "        \n",
    "    def git_add(self, archivos):\n",
    "\n",
    "        archivos_para_add_cola = deque(archivos)\n",
    "        #debes completar aquí\n",
    "        while len(archivos_para_add_cola)>=1:\n",
    "            if self.archivos_locales_cola.count(archivos_para_add_cola[0]):\n",
    "                #print(f\"archivo repetido: \"+{archivo})\n",
    "                archivos_para_add_cola.popleft()\n",
    "            else:\n",
    "                self.archivos_en_espera_cola.append(archivos_para_add_cola.popleft())\n",
    "                #print(f\"archivo añadido a la cola para el commit\"+{archivo})\n",
    "\n",
    "        \n",
    "    def git_commit(self, comentario):\n",
    "        print(comentario)\n",
    "        #debes completar aquí\n",
    "        while len(self.archivos_en_espera_cola)>=1:\n",
    "            self.archivos_locales_cola.append(self.archivos_en_espera_cola.popleft())\n",
    "        \n",
    "    \n",
    "    def git_push(self):\n",
    "        #debes completar aquí\n",
    "        while len(self.archivos_locales_cola)>=1:\n",
    "            self.archivos_remotos_cola.append(self.archivos_locales_cola.popleft())\n",
    "    \n",
    "    def imprimir_repos(self):\n",
    "        print(list(self.archivos_locales_cola))\n",
    "        print (list(self.archivos_remotos_cola))\n",
    "        #print(self.archivos_locales_cola)\n",
    "        #print (self.archivos_remotos_cola)\n",
    "        \n",
    "\n",
    "\n",
    "if __name__ == \"__main__\":\n",
    "    mi_repo = Repositorio([\"main.py\", \"windows.py\", \"user.txt\"])\n",
    "    mi_repo.imprimir_repos()\n",
    "    print(\" \")\n",
    "    mi_repo.git_add('README.md')\n",
    "    mi_repo.imprimir_repos()\n",
    "    print(\" \")\n",
    "    mi_repo.git_commit('Agregado el README :D')\n",
    "    mi_repo.imprimir_repos()\n",
    "    print(\" \")\n",
    "    mi_repo.git_push()\n",
    "    mi_repo.imprimir_repos()\n",
    "    print(\" \")\n",
    "    mi_repo.git_add([\"data.json\", \"client.py\", \"user.txt\"])\n",
    "    mi_repo.imprimir_repos()\n",
    "    print(\" \")\n",
    "    mi_repo.git_commit(\"subiendo datos\")\n",
    "    mi_repo.imprimir_repos()\n",
    "    print(\" \")\n",
    "    mi_repo.git_push()\n",
    "    mi_repo.imprimir_repos()\n",
    "    print(\" \")\n",
    "    "
   ]
  },
  {
   "cell_type": "markdown",
   "metadata": {},
   "source": [
    "## 5. Diccionarios"
   ]
  },
  {
   "cell_type": "markdown",
   "metadata": {},
   "source": [
    "### Ejercicio 5.1: Indice de consonantes en el abecedario"
   ]
  },
  {
   "cell_type": "markdown",
   "metadata": {},
   "source": [
    "A continuación, se te entrega código que tiene dentro de la variable `letras` un *string* que contiene en orden los caracteres del idioma inglés en orden, desde la `'a'` hasta la `'z'`. Con eso, sigue las siguientes instrucciones:\n",
    "\n",
    "- Crea un diccionario vacío\n",
    "- Por cada caracter en `letras`, crea una asociación en tu diccionario, donde el valor es el caracter y la llave es el índice numérico donde se ubica ese caracter en `letras`. Por ejemplo, primero se agregaría la asociación `0: 'a'`, ya que la `'a'` es el primer caracter en `letras`.\n",
    "- Una vez todas creadas, elimina las asociaciones cuyas llaves sean múltiplos de 3.\n",
    "- Imprime el diccionario que resulta."
   ]
  },
  {
   "cell_type": "code",
   "execution_count": null,
   "metadata": {},
   "outputs": [],
   "source": [
    "from string import ascii_lowercase as letras\n",
    "\n",
    "print(letras)\n",
    "\n",
    "# Completar"
   ]
  },
  {
   "cell_type": "markdown",
   "metadata": {},
   "source": [
    "### Ejercicio 5.2: Categorizar por grupo"
   ]
  },
  {
   "cell_type": "markdown",
   "metadata": {},
   "source": [
    "A continuación, se te entrega código incompleto. Hasta el momento, crea una lista (`personas`) de 100 instancias una tupla `Persona` que poseen `edad` y `nacionalidad` cada una. Debes crear dos diccionarios: `personas_por_paises` y `personas_por_edad`, y poblarlos tal  que:\n",
    "\n",
    "- `personas_por_paises` contenga asociaciones donde las llaves son nombres de las distintas nacionalidades posibles para las instancias de `Persona`, y el valor asociado es una lista con aquellas instancias en `personas` que tienen ese valor de `nacionalidad`.\n",
    "- `personas_por_edad` similarmente contenga listas de instancias en `personas` pero categorizados por rangos de edades en las llaves. Específicamente, las llaves deben ser tuplas que indiquen los extremos de dichos rangos que vayan de 10 en 10. Es decir: `(0, 10)`,  `(11, 20)`, ..., `(91, 100)`; son llaves del diccionario.\n",
    "\n",
    "**Observación**: No hay una única forma de generar lo pedido, intenta hacerlo como puedas inicialmente, y luego analiza si lo puedes alterar o usar otro tipo de definición de diccionario distinta."
   ]
  },
  {
   "cell_type": "code",
   "execution_count": null,
   "metadata": {},
   "outputs": [],
   "source": [
    "from random import choice, randint\n",
    "from collections import namedtuple, defaultdict # Puedes usar defaultdict si lo deseas\n",
    "\n",
    "\n",
    "paises = ['Argentina', 'Bolivia', 'Chile', 'Perú']\n",
    "Persona = namedtuple('Persona', 'edad nacionalidad')\n",
    "\n",
    "personas = []\n",
    "for i in range(100):\n",
    "    nueva_persona = Persona(randint(0, 100), choice(paises))\n",
    "    personas.append(nueva_persona)\n",
    "\n",
    "\n",
    "# Completar"
   ]
  },
  {
   "cell_type": "markdown",
   "metadata": {},
   "source": [
    "### Ejercicio 5.3: Diccionarios y funciones"
   ]
  },
  {
   "cell_type": "markdown",
   "metadata": {},
   "source": [
    "El siguiente código tiene lo necesario para simular el movimiento de un objeto en una matriz de 3 por 3. La variable `tablero` es una lista de listas con el contenido del tablero matricial, donde `'o'` representa el objeto en movimiento, y `pos` es un posición actual en la matriz. Por otro lado, las funciones `bajar`, `subir`, `derecha` e `izquierda` generan los cambios en `tablero` y `pos` para mover el objeto correspondientemente.\n",
    "\n",
    "La última sección genera interacción con el usuario mediante `input`, donde al recibir los caracteres `'a'`, `'s'`, `'d'`, `'w'` y `'q'` genera una acción. Ya está definido que al ingresar `'q'`, se termina el programa. Debes completar el programa para que al ingresar `'a'` el objeto se mueva a la izquierda, al ingresar `'d'` el objeto se mueva a la derecha, al ingresar `'s'` el objeto se mueva hacia abajo, y al ingresar `'w'` el objeto se mueva hacia arriba.\n",
    "\n",
    "**Observación:** Es fácil el ejercicio utilizando más sentencias `if-elif-else`. Intenta no usarlas y utilizar un diccionario para resolverlo."
   ]
  },
  {
   "cell_type": "code",
   "execution_count": null,
   "metadata": {},
   "outputs": [],
   "source": [
    "tablero = [['-', '-', '-'], ['-', 'o', '-'], ['-', '-', '-']]\n",
    "pos = (1, 1)\n",
    "\n",
    "def bajar(tablero, pos):\n",
    "    tablero[pos[1]][pos[0]] = '-'\n",
    "    pos = (pos[0], min(pos[1] + 1, 2))\n",
    "    tablero[pos[1]][pos[0]] = 'o'\n",
    "    return tablero, pos\n",
    "\n",
    "def subir(tablero, pos):\n",
    "    tablero[pos[1]][pos[0]] = '-'\n",
    "    pos = (pos[0], max(pos[1] - 1, 0))\n",
    "    tablero[pos[1]][pos[0]] = 'o'\n",
    "    return tablero, pos\n",
    "    \n",
    "def derecha(tablero, pos):\n",
    "    tablero[pos[1]][pos[0]] = '-'\n",
    "    pos = (min(pos[0] + 1, 2), pos[1])\n",
    "    tablero[pos[1]][pos[0]] = 'o'\n",
    "    return tablero, pos\n",
    "\n",
    "def izquierda(tablero, pos):\n",
    "    tablero[pos[1]][pos[0]] = '-'\n",
    "    pos = (max(pos[0] - 1, 0), pos[1])\n",
    "    tablero[pos[1]][pos[0]] = 'o'\n",
    "    return tablero, pos\n",
    "\n",
    "# Puedes rellenar aquí\n",
    "\n",
    "while True:\n",
    "    for fila in tablero:\n",
    "        print(\"\".join(fila))\n",
    "    accion = input(\"Ingresa acción: \")\n",
    "    if accion in \"asdw\":\n",
    "        # Completar aquí\n",
    "    elif accion == \"q\":\n",
    "        print(\"¡Adios!\")\n",
    "        break\n",
    "    else:\n",
    "        print(\"Inválido\")"
   ]
  },
  {
   "cell_type": "markdown",
   "metadata": {},
   "source": [
    "## 6. *Sets*"
   ]
  },
  {
   "cell_type": "markdown",
   "metadata": {},
   "source": [
    "### Ejercicio 6.1: *Set* de números aleatorios"
   ]
  },
  {
   "cell_type": "markdown",
   "metadata": {},
   "source": [
    "Crea un *set* vacío, y agrega 100 veces un número aleatorio entre 0 y 100. Luego imprime el *set* que resulta. Una vez resuelto, intenta generar el mismo resultado utilizando una estructura por comprensión."
   ]
  },
  {
   "cell_type": "code",
   "execution_count": null,
   "metadata": {},
   "outputs": [],
   "source": [
    "from random import randint\n",
    "\n",
    "# Completar"
   ]
  },
  {
   "cell_type": "markdown",
   "metadata": {},
   "source": [
    "### Ejercicio 6.2: Eficiencia de revisión de pertenencia en *sets*"
   ]
  },
  {
   "cell_type": "markdown",
   "metadata": {},
   "source": [
    "La intención es extender el experimento del material que revisa el tiempo que demora buscar cierto elemento en listas y conjuntos muy grandes. En ese ejemplo, siempre se buscaba el mismo elemento. Ahora, debes extenderlo para probar varios casos, donde el elemento buscado varía. Se te entrega creada una función (`pertenencia_cronometrada`) que cronometra la revisión de pertenencia de un elemento en una estructura cualquiera; y luego está la creación del *set* y lista gigantes. El programa debe generar 100 experimentos donde busca en ambas estructuras un elemento aleatorio cualquiera y cronometra cuanto demora en cada estructura. Finalmente debe mostrar también cuanto tiempo promedio tomó para cada estructura la búsqueda en la totalidad de los experimentos.\n",
    "\n",
    "Una vez completado eso, extiende la simulación para que cada experimento aleatorio nuevo **no se repita**."
   ]
  },
  {
   "cell_type": "code",
   "execution_count": null,
   "metadata": {},
   "outputs": [],
   "source": [
    "from time import time\n",
    "from random import randint\n",
    "\n",
    "def pertenencia_cronometrada(elemento, estructura):\n",
    "    inicio = time()\n",
    "    elemento in estructura\n",
    "    fin = time()\n",
    "    return fin - inicio\n",
    "\n",
    "ELEMENTOS = 10 ** 7\n",
    "lista_gigante = list(range(ELEMENTOS))\n",
    "set_gigante = set(range(ELEMENTOS))\n",
    "\n",
    "# Puedes rellenar aquí\n",
    "\n",
    "for _ in range(100):\n",
    "    \n",
    "    # Completar\n",
    "    \n",
    "    print(f\"set  -- La búsqueda de {elemento} demoró... {tiempo_set:.6f} segundos.\")\n",
    "    print(f\"list -- La búsqueda de {elemento} demoró... {tiempo_lista:.6f} segundos.\")\n",
    "\n",
    "# Puedes rellenar aquí\n",
    "\n",
    "print(f\"set  -- La búsqueda en promedio demoró... {set_promedio:.6f} segundos.\")\n",
    "print(f\"list -- La búsqueda en promedio demoró... {lista_promedio:.6f} segundos.\")\n",
    "print(f\"La búsqueda en la lista fue {lista_promedio / set_promedio:.2f} veces más lenta que en el set.\")"
   ]
  },
  {
   "cell_type": "markdown",
   "metadata": {},
   "source": [
    "## 7. `args` y `kwargs`"
   ]
  },
  {
   "cell_type": "markdown",
   "metadata": {},
   "source": [
    "### Ejercicio 7.1: Múltiples argumentos de `print`"
   ]
  },
  {
   "cell_type": "markdown",
   "metadata": {},
   "source": [
    "`print` puede recibir una cantidad arbitraría de argumentos posicionales e imprirlos todos con cierto por separador *string* entre ellos. Por defecto, ese separador es el espacio `' '`, pero también recibe un parámetro opcional (`sep`) que permite alterar dicho separador. A su vez, recibe un parámetro opcional (`end`) que permite alterar con qué termina lo impreso, cuyo default es `'\\n'` (salto de línea).\n",
    "\n",
    "El siguiente código genera una lista de listas con strings numéricos de dos dígitos. Luego se imprime fila por fila, lo cual resulta en la impresión literal de cada sub-lista contenidas en `numeros`."
   ]
  },
  {
   "cell_type": "code",
   "execution_count": null,
   "metadata": {},
   "outputs": [],
   "source": [
    "numeros = [[str((fila * 10 + columna)).zfill(2) for columna in range(10)] for fila in range(10)]\n",
    "\n",
    "for fila in numeros:\n",
    "    print(fila)"
   ]
  },
  {
   "cell_type": "markdown",
   "metadata": {},
   "source": [
    "Completa las siguientes secciones haciendo uso de los argumentos de `print` para imprimir los números en ciertos formatos. Primero:\n",
    "\n",
    "```\n",
    "00 01 02 03 04 05 06 07 08 09\n",
    "10 11 12 13 14 15 16 17 18 19\n",
    "20 21 22 23 24 25 26 27 28 29\n",
    "30 31 32 33 34 35 36 37 38 39\n",
    "40 41 42 43 44 45 46 47 48 49\n",
    "50 51 52 53 54 55 56 57 58 59\n",
    "60 61 62 63 64 65 66 67 68 69\n",
    "70 71 72 73 74 75 76 77 78 79\n",
    "80 81 82 83 84 85 86 87 88 89\n",
    "90 91 92 93 94 95 96 97 98 99\n",
    "```"
   ]
  },
  {
   "cell_type": "code",
   "execution_count": 3,
   "metadata": {},
   "outputs": [
    {
     "ename": "SyntaxError",
     "evalue": "incomplete input (2705023441.py, line 2)",
     "output_type": "error",
     "traceback": [
      "\u001b[1;36m  Input \u001b[1;32mIn [3]\u001b[1;36m\u001b[0m\n\u001b[1;33m    # Completar\u001b[0m\n\u001b[1;37m               ^\u001b[0m\n\u001b[1;31mSyntaxError\u001b[0m\u001b[1;31m:\u001b[0m incomplete input\n"
     ]
    }
   ],
   "source": [
    "for fila in numeros:\n",
    "    # Completar"
   ]
  },
  {
   "cell_type": "markdown",
   "metadata": {},
   "source": [
    "Luego:\n",
    "```\n",
    "00-01-02-03-04-05-06-07-08-09\n",
    "10-11-12-13-14-15-16-17-18-19\n",
    "20-21-22-23-24-25-26-27-28-29\n",
    "30-31-32-33-34-35-36-37-38-39\n",
    "40-41-42-43-44-45-46-47-48-49\n",
    "50-51-52-53-54-55-56-57-58-59\n",
    "60-61-62-63-64-65-66-67-68-69\n",
    "70-71-72-73-74-75-76-77-78-79\n",
    "80-81-82-83-84-85-86-87-88-89\n",
    "90-91-92-93-94-95-96-97-98-99\n",
    "```"
   ]
  },
  {
   "cell_type": "code",
   "execution_count": null,
   "metadata": {},
   "outputs": [],
   "source": [
    "for fila in numeros:\n",
    "    # Completar"
   ]
  },
  {
   "cell_type": "markdown",
   "metadata": {},
   "source": [
    "Y finalmente:\n",
    "```\n",
    "00>01>02>03>04>05>06>07>08>09>10>11>12>13>14>15>16>17>18>19>20>21>22>23>24>25>26>27>28>29>30>31>32>33>34>35>36>37>38>39>40>41>42>43>44>45>46>47>48>49>50>51>52>53>54>55>56>57>58>59>60>61>62>63>64>65>66>67>68>69>70>71>72>73>74>75>76>77>78>79>80>81>82>83>84>85>86>87>88>89>90>91>92>93>94>95>96>97>98>99>\n",
    "```"
   ]
  },
  {
   "cell_type": "code",
   "execution_count": null,
   "metadata": {},
   "outputs": [],
   "source": [
    "for fila in numeros:\n",
    "    # Completar"
   ]
  },
  {
   "cell_type": "markdown",
   "metadata": {},
   "source": [
    "### Ejercicio 7.2: Clonando diccionarios"
   ]
  },
  {
   "cell_type": "markdown",
   "metadata": {},
   "source": [
    "La función `dict` permite también crear diccionarios vacíos, o con contenido. Particularmente, permite recibir argumentos por palabra clave de tal forma que el nuevo diccionario creado tenga pares llave-valor iguales a la palabra clave y argumento entregado, respectivamente."
   ]
  },
  {
   "cell_type": "code",
   "execution_count": null,
   "metadata": {},
   "outputs": [],
   "source": [
    "diccionario = dict(uno = 1)\n",
    "print(diccionario)"
   ]
  },
  {
   "cell_type": "markdown",
   "metadata": {},
   "source": [
    "Con esto en mente, completa el siguiente espacio de tal forma que `diccionario_2` sea una copia de `diccionario_1`, pero no el mismo objeto. La solución cabe en una línea y no consiste en replicar la definición de `diccionario_1`."
   ]
  },
  {
   "cell_type": "code",
   "execution_count": null,
   "metadata": {},
   "outputs": [],
   "source": [
    "diccionario_1 = {str(i): 0 for i in range(100)}\n",
    "\n",
    "diccionario_2 = # Completar\n",
    "\n",
    "print(f'¿Es el mismo objeto?: {diccionario_1 is diccionario_2}')"
   ]
  }
 ],
 "metadata": {
  "kernelspec": {
   "display_name": "Python 3",
   "language": "python",
   "name": "python3"
  },
  "language_info": {
   "codemirror_mode": {
    "name": "ipython",
    "version": 3
   },
   "file_extension": ".py",
   "mimetype": "text/x-python",
   "name": "python",
   "nbconvert_exporter": "python",
   "pygments_lexer": "ipython3",
   "version": "3.10.11"
  },
  "orig_nbformat": 4,
  "vscode": {
   "interpreter": {
    "hash": "46ae59ad7d7bfa2e102268be661432f98366ecd9412924111c924454e2d7c04f"
   }
  }
 },
 "nbformat": 4,
 "nbformat_minor": 2
}
